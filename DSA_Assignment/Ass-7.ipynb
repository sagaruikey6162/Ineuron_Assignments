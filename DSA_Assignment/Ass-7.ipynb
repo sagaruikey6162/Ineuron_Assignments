{
 "cells": [
  {
   "cell_type": "markdown",
   "id": "56671482",
   "metadata": {},
   "source": [
    "###  **Question 1**\n",
    "\n",
    "Given two strings s and t, *determine if they are isomorphic*.\n",
    "\n",
    "Two strings s and t are isomorphic if the characters in s can be replaced to get t.\n",
    "\n",
    "All occurrences of a character must be replaced with another character while preserving the order of characters. No two characters may map to the same character, but a character may map to itself.\n"
   ]
  },
  {
   "cell_type": "code",
   "execution_count": 1,
   "id": "e5bcb304",
   "metadata": {},
   "outputs": [],
   "source": [
    "def is_isomorphic(s, t):\n",
    "    if len(s) != len(t):\n",
    "        return False\n",
    "\n",
    "    mapping_s_t = {}\n",
    "    mapping_t_s = {}\n",
    "\n",
    "    for i in range(len(s)):\n",
    "        char_s = s[i]\n",
    "        char_t = t[i]\n",
    "\n",
    "        if char_s in mapping_s_t:\n",
    "            if mapping_s_t[char_s] != char_t:\n",
    "                return False\n",
    "        else:\n",
    "            mapping_s_t[char_s] = char_t\n",
    "\n",
    "        if char_t in mapping_t_s:\n",
    "            if mapping_t_s[char_t] != char_s:\n",
    "                return False\n",
    "        else:\n",
    "            mapping_t_s[char_t] = char_s\n",
    "\n",
    "    return True"
   ]
  },
  {
   "cell_type": "code",
   "execution_count": 2,
   "id": "9bcb3da6",
   "metadata": {},
   "outputs": [
    {
     "data": {
      "text/plain": [
       "True"
      ]
     },
     "execution_count": 2,
     "metadata": {},
     "output_type": "execute_result"
    }
   ],
   "source": [
    "is_isomorphic(\"egg\", \"add\")"
   ]
  },
  {
   "cell_type": "markdown",
   "id": "209bf9df",
   "metadata": {},
   "source": [
    "###  **Question 2**\n",
    "\n",
    "Given a string num which represents an integer, return true *if* num *is a **strobogrammatic number***.\n",
    "\n",
    "A **strobogrammatic number** is a number that looks the same when rotated 180 degrees (looked at upside down).\n"
   ]
  },
  {
   "cell_type": "code",
   "execution_count": 3,
   "id": "fbf0691a",
   "metadata": {},
   "outputs": [],
   "source": [
    "def is_strobogrammatic(num):\n",
    "    mapping = {'0': '0', '1': '1', '6': '9', '8': '8', '9': '6'}\n",
    "    rotated_num = ''\n",
    "\n",
    "    for digit in num:\n",
    "        if digit not in mapping:\n",
    "            return False\n",
    "        rotated_num += mapping[digit]\n",
    "\n",
    "    return num == rotated_num[::-1]"
   ]
  },
  {
   "cell_type": "code",
   "execution_count": 4,
   "id": "0b59142c",
   "metadata": {},
   "outputs": [
    {
     "data": {
      "text/plain": [
       "True"
      ]
     },
     "execution_count": 4,
     "metadata": {},
     "output_type": "execute_result"
    }
   ],
   "source": [
    "is_strobogrammatic(\"69\")"
   ]
  },
  {
   "cell_type": "markdown",
   "id": "53f1cb13",
   "metadata": {},
   "source": [
    "### **Question 3**\n",
    "\n",
    "Given two non-negative integers, num1 and num2 represented as string, return *the sum of* num1 *and* num2 *as a string*.\n",
    "\n",
    "You must solve the problem without using any built-in library for handling large integers (such as BigInteger). You must also not convert the inputs to integers directly."
   ]
  },
  {
   "cell_type": "code",
   "execution_count": 5,
   "id": "e33647e0",
   "metadata": {},
   "outputs": [],
   "source": [
    "def add_strings(num1, num2):\n",
    "    result = \"\"\n",
    "    carry = 0\n",
    "    i = len(num1) - 1\n",
    "    j = len(num2) - 1\n",
    "\n",
    "    while i >= 0 or j >= 0 or carry > 0:\n",
    "        digit1 = int(num1[i]) if i >= 0 else 0\n",
    "        digit2 = int(num2[j]) if j >= 0 else 0\n",
    "\n",
    "        total = digit1 + digit2 + carry\n",
    "        carry = total // 10\n",
    "        digit_sum = total % 10\n",
    "\n",
    "        result = str(digit_sum) + result\n",
    "        i -= 1\n",
    "        j -= 1\n",
    "\n",
    "    return result"
   ]
  },
  {
   "cell_type": "code",
   "execution_count": 6,
   "id": "6d104d79",
   "metadata": {},
   "outputs": [
    {
     "data": {
      "text/plain": [
       "'134'"
      ]
     },
     "execution_count": 6,
     "metadata": {},
     "output_type": "execute_result"
    }
   ],
   "source": [
    "add_strings(\"11\", \"123\")"
   ]
  },
  {
   "cell_type": "markdown",
   "id": "c7f53229",
   "metadata": {},
   "source": [
    "###  **Question 4**\n",
    "\n",
    "Given a string s, reverse the order of characters in each word within a sentence while still preserving whitespace and initial "
   ]
  },
  {
   "cell_type": "code",
   "execution_count": 7,
   "id": "4ab39633",
   "metadata": {},
   "outputs": [],
   "source": [
    "def reverse_words(s):\n",
    "    words = s.split(\" \")\n",
    "    reversed_words = []\n",
    "\n",
    "    for word in words:\n",
    "        reversed_words.append(word[::-1])\n",
    "\n",
    "    return \" \".join(reversed_words)"
   ]
  },
  {
   "cell_type": "code",
   "execution_count": 8,
   "id": "50a8617f",
   "metadata": {},
   "outputs": [
    {
     "data": {
      "text/plain": [
       "\"s'teL ekat edoCteeL tsetnoc\""
      ]
     },
     "execution_count": 8,
     "metadata": {},
     "output_type": "execute_result"
    }
   ],
   "source": [
    "reverse_words(\"Let's take LeetCode contest\")"
   ]
  },
  {
   "cell_type": "markdown",
   "id": "fd849384",
   "metadata": {},
   "source": [
    "###  **Question 5**\n",
    "\n",
    "Given a string s and an integer k, reverse the first k characters for every 2k characters counting from the start of the string.\n",
    "\n",
    "If there are fewer than k characters left, reverse all of them. If there are less than 2k but greater than or equal to k characters, then reverse the first k characters and leave the other as original."
   ]
  },
  {
   "cell_type": "code",
   "execution_count": 9,
   "id": "aec3e684",
   "metadata": {},
   "outputs": [],
   "source": [
    "def reverse_string(s, k):\n",
    "    char_list = list(s)\n",
    "\n",
    "    for i in range(0, len(char_list), 2 * k):\n",
    "        start = i\n",
    "        end = min(i + k, len(char_list))  # Handle case when fewer than k characters are left\n",
    "        char_list[start:end] = char_list[start:end][::-1]\n",
    "\n",
    "    return \"\".join(char_list)"
   ]
  },
  {
   "cell_type": "code",
   "execution_count": 10,
   "id": "7237dbd5",
   "metadata": {},
   "outputs": [
    {
     "data": {
      "text/plain": [
       "'bacdfeg'"
      ]
     },
     "execution_count": 10,
     "metadata": {},
     "output_type": "execute_result"
    }
   ],
   "source": [
    "reverse_string(\"abcdefg\", 2)"
   ]
  },
  {
   "cell_type": "markdown",
   "id": "6994eb11",
   "metadata": {},
   "source": [
    "### **Question 6**\n",
    "\n",
    "Given two strings s and goal, return true *if and only if* s *can become* goal *after some number of **shifts** on* s.\n",
    "\n",
    "A **shift** on s consists of moving the leftmost character of s to the rightmost position.\n",
    "\n",
    "- For example, if s = \"abcde\", then it will be \"bcdea\" after one shift."
   ]
  },
  {
   "cell_type": "code",
   "execution_count": 11,
   "id": "02fd4ae0",
   "metadata": {},
   "outputs": [],
   "source": [
    "def can_shift(s, goal):\n",
    "    if len(s) != len(goal):\n",
    "        return False\n",
    "\n",
    "    concatenated = s + s\n",
    "    return goal in concatenated"
   ]
  },
  {
   "cell_type": "code",
   "execution_count": 12,
   "id": "24b9f12d",
   "metadata": {},
   "outputs": [
    {
     "data": {
      "text/plain": [
       "True"
      ]
     },
     "execution_count": 12,
     "metadata": {},
     "output_type": "execute_result"
    }
   ],
   "source": [
    "can_shift(\"abcde\",\"cdeab\")"
   ]
  },
  {
   "cell_type": "markdown",
   "id": "a164054d",
   "metadata": {},
   "source": [
    "### <**Question 7**\n",
    "\n",
    "Given two strings s and t, return true *if they are equal when both are typed into empty text editors*. '#' means a backspace character.\n",
    "\n",
    "Note that after backspacing an empty text, the text will continue empty."
   ]
  },
  {
   "cell_type": "code",
   "execution_count": 13,
   "id": "1eae97bb",
   "metadata": {},
   "outputs": [],
   "source": [
    "def type_and_compare(s, t):\n",
    "    def process_string(string):\n",
    "        stack = []\n",
    "\n",
    "        for char in string:\n",
    "            if char != '#':\n",
    "                stack.append(char)\n",
    "            elif stack:\n",
    "                stack.pop()\n",
    "\n",
    "        return \"\".join(stack)\n",
    "\n",
    "    return process_string(s) == process_string(t)"
   ]
  },
  {
   "cell_type": "code",
   "execution_count": 14,
   "id": "7047ad5d",
   "metadata": {},
   "outputs": [
    {
     "data": {
      "text/plain": [
       "True"
      ]
     },
     "execution_count": 14,
     "metadata": {},
     "output_type": "execute_result"
    }
   ],
   "source": [
    "type_and_compare(\"ab#c\", \"ad#c\")"
   ]
  },
  {
   "cell_type": "markdown",
   "id": "764f7152",
   "metadata": {},
   "source": [
    "### **Question 8**\n",
    "\n",
    "You are given an array coordinates, coordinates[i] = [x, y], where [x, y] represents the coordinate of a point. Check if these points make a straight line in the XY plane.\n"
   ]
  },
  {
   "cell_type": "code",
   "execution_count": null,
   "id": "d69be1fa",
   "metadata": {},
   "outputs": [],
   "source": []
  }
 ],
 "metadata": {
  "kernelspec": {
   "display_name": "Python 3 (ipykernel)",
   "language": "python",
   "name": "python3"
  },
  "language_info": {
   "codemirror_mode": {
    "name": "ipython",
    "version": 3
   },
   "file_extension": ".py",
   "mimetype": "text/x-python",
   "name": "python",
   "nbconvert_exporter": "python",
   "pygments_lexer": "ipython3",
   "version": "3.9.16"
  }
 },
 "nbformat": 4,
 "nbformat_minor": 5
}
